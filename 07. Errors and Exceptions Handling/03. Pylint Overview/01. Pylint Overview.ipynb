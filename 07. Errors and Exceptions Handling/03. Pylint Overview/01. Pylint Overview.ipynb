{
 "cells": [
  {
   "cell_type": "code",
   "execution_count": 1,
   "metadata": {},
   "outputs": [],
   "source": [
    "# Unit Testing\n",
    "\n",
    "# As you begin to expand to larger multi-file projects it becomes important \n",
    "# to have tests in place.\n",
    "\n",
    "# This way as you make changes or update your code, you can run your test files to make sure\n",
    "# previous code still runs as expected."
   ]
  },
  {
   "cell_type": "code",
   "execution_count": 2,
   "metadata": {},
   "outputs": [],
   "source": [
    "# There are several testing tools, we will focus on two:\n",
    "# 1. pylint: This is a library that looks at your code and reports back possible issues.\n",
    "# 2. unittest: This built-in library will allow to test your own programs and check\n",
    "#              you are getting desired outputs. This is a builtin library in python."
   ]
  },
  {
   "cell_type": "code",
   "execution_count": 3,
   "metadata": {},
   "outputs": [],
   "source": [
    "# We'll begin by showing you how to use pylint to check your code for possible errors\n",
    "# and styling.\n",
    "\n",
    "# Python as a set of style convention rules known as \"PEP 8\".\n",
    "\n",
    "# Afterwards we will explore how to test our code with the built-in unittest library.\n",
    "\n",
    "# Let's get started."
   ]
  },
  {
   "cell_type": "code",
   "execution_count": 4,
   "metadata": {},
   "outputs": [
    {
     "name": "stdout",
     "output_type": "stream",
     "text": [
      "Collecting pylint\n",
      "  Downloading https://files.pythonhosted.org/packages/03/09/7b710f4aab53e3ccc0d9596557bf020c5ad06312e54ec1b60402ec9d694f/pylint-2.13.9-py3-none-any.whl (438kB)\n",
      "Collecting dill>=0.2 (from pylint)\n",
      "  Downloading https://files.pythonhosted.org/packages/b6/c3/973676ceb86b60835bb3978c6db67a5dc06be6cfdbd14ef0f5a13e3fc9fd/dill-0.3.4-py2.py3-none-any.whl (86kB)\n",
      "Collecting isort<6,>=4.2.5 (from pylint)\n",
      "  Downloading https://files.pythonhosted.org/packages/b8/5b/f18e227df38b94b4ee30d2502fd531bebac23946a2497e5595067a561274/isort-5.10.1-py3-none-any.whl (103kB)\n",
      "Collecting typing-extensions>=3.10.0; python_version < \"3.10\" (from pylint)\n",
      "  Downloading https://files.pythonhosted.org/packages/45/6b/44f7f8f1e110027cf88956b59f2fad776cca7e1704396d043f89effd3a0e/typing_extensions-4.1.1-py3-none-any.whl\n",
      "Collecting astroid<=2.12.0-dev0,>=2.11.5 (from pylint)\n",
      "  Downloading https://files.pythonhosted.org/packages/e4/3b/f1aa1bd41e8188b3a3605d71b699b73695fc7ac862cbed23ed9dee707251/astroid-2.11.7-py3-none-any.whl (251kB)\n",
      "Collecting platformdirs>=2.2.0 (from pylint)\n",
      "  Downloading https://files.pythonhosted.org/packages/b1/78/dcfd84d3aabd46a9c77260fb47ea5d244806e4daef83aa6fe5d83adb182c/platformdirs-2.4.0-py3-none-any.whl\n",
      "Requirement already satisfied: colorama; sys_platform == \"win32\" in c:\\users\\hp\\appdata\\local\\programs\\python\\python36\\lib\\site-packages (from pylint) (0.4.1)\n",
      "Collecting tomli>=1.1.0; python_version < \"3.11\" (from pylint)\n",
      "  Downloading https://files.pythonhosted.org/packages/05/e4/74f9440db36734d7ba83c574c1e7024009ce849208a41f90e94a134dc6d1/tomli-1.2.3-py3-none-any.whl\n",
      "Collecting mccabe<0.8,>=0.6 (from pylint)\n",
      "  Downloading https://files.pythonhosted.org/packages/27/1a/1f68f9ba0c207934b35b86a8ca3aad8395a3d6dd7921c0686e23853ff5a9/mccabe-0.7.0-py2.py3-none-any.whl\n",
      "Collecting typed-ast<2.0,>=1.4.0; implementation_name == \"cpython\" and python_version < \"3.8\" (from astroid<=2.12.0-dev0,>=2.11.5->pylint)\n",
      "  Downloading https://files.pythonhosted.org/packages/70/2c/6d18e111d2c5422bb9e561bbf36885e430407859b2adef9b3fb575f189d5/typed_ast-1.5.4-cp36-cp36m-win_amd64.whl (160kB)\n",
      "Collecting lazy-object-proxy>=1.4.0 (from astroid<=2.12.0-dev0,>=2.11.5->pylint)\n",
      "  Downloading https://files.pythonhosted.org/packages/2c/98/f9394c3e2753e8430fe7b188787aeec59fd966540eebe5b20e6b9cc02fd9/lazy_object_proxy-1.7.1-cp36-cp36m-win_amd64.whl\n",
      "Requirement already satisfied: setuptools>=20.0 in c:\\users\\hp\\appdata\\local\\programs\\python\\python36\\lib\\site-packages (from astroid<=2.12.0-dev0,>=2.11.5->pylint) (39.1.0)\n",
      "Requirement already satisfied: wrapt<2,>=1.11 in c:\\users\\hp\\appdata\\local\\programs\\python\\python36\\lib\\site-packages (from astroid<=2.12.0-dev0,>=2.11.5->pylint) (1.11.2)\n",
      "Installing collected packages: dill, isort, typing-extensions, typed-ast, lazy-object-proxy, astroid, platformdirs, tomli, mccabe, pylint\n",
      "Successfully installed astroid-2.11.7 dill-0.3.4 isort-5.10.1 lazy-object-proxy-1.7.1 mccabe-0.7.0 platformdirs-2.4.0 pylint-2.13.9 tomli-1.2.3 typed-ast-1.5.4 typing-extensions-4.1.1\n",
      "Note: you may need to restart the kernel to use updated packages.\n"
     ]
    },
    {
     "name": "stderr",
     "output_type": "stream",
     "text": [
      "WARNING: You are using pip version 19.2.3, however version 21.3.1 is available.\n",
      "You should consider upgrading via the 'python -m pip install --upgrade pip' command.\n"
     ]
    }
   ],
   "source": [
    "pip install pylint"
   ]
  },
  {
   "cell_type": "code",
   "execution_count": null,
   "metadata": {},
   "outputs": [],
   "source": [
    "# check simple1.py and simple2.py script on how to work with pylint on command line"
   ]
  }
 ],
 "metadata": {
  "kernelspec": {
   "display_name": "Python 3",
   "language": "python",
   "name": "python3"
  },
  "language_info": {
   "codemirror_mode": {
    "name": "ipython",
    "version": 3
   },
   "file_extension": ".py",
   "mimetype": "text/x-python",
   "name": "python",
   "nbconvert_exporter": "python",
   "pygments_lexer": "ipython3",
   "version": "3.6.6"
  }
 },
 "nbformat": 4,
 "nbformat_minor": 2
}
