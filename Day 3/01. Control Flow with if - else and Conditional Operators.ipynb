{
 "cells": [
  {
   "cell_type": "code",
   "execution_count": 2,
   "metadata": {},
   "outputs": [
    {
     "name": "stdout",
     "output_type": "stream",
     "text": [
      "Welcome to the rollecoster!\n",
      "What is your height in cm? 130\n",
      "You can ride the rollercoster!\n"
     ]
    }
   ],
   "source": [
    "print(\"Welcome to the rollecoster!\")\n",
    "height = int(input(\"What is your height in cm? \"))\n",
    "\n",
    "if height >= 120:\n",
    "    print(\"You can ride the rollercoster!\")\n",
    "else:\n",
    "    print(\"Sorry, you have to grow taller before you can ride.\")"
   ]
  },
  {
   "cell_type": "code",
   "execution_count": 3,
   "metadata": {},
   "outputs": [],
   "source": [
    "# Comparison Operators\n",
    "# > Greater than\n",
    "# < Less than\n",
    "# >= Greater than or equal to\n",
    "# <= Less than or equal to\n",
    "# == Equal to (different from assignment operator : =)\n",
    "# != Not equal to"
   ]
  },
  {
   "cell_type": "code",
   "execution_count": 4,
   "metadata": {},
   "outputs": [
    {
     "name": "stdout",
     "output_type": "stream",
     "text": [
      "Welcome to the rollecoster!\n",
      "What is your height in cm? 130\n",
      "Sorry, you have to grow taller before you can ride.\n"
     ]
    }
   ],
   "source": [
    "print(\"Welcome to the rollecoster!\")\n",
    "height = int(input(\"What is your height in cm? \"))\n",
    "\n",
    "if height == 120:\n",
    "    print(\"You can ride the rollercoster!\")\n",
    "else:\n",
    "    print(\"Sorry, you have to grow taller before you can ride.\")"
   ]
  },
  {
   "cell_type": "code",
   "execution_count": 5,
   "metadata": {},
   "outputs": [],
   "source": [
    "# By using if and else statements we can get our computers do different things\n",
    "# and respond differently depending on different conditions."
   ]
  },
  {
   "cell_type": "code",
   "execution_count": 6,
   "metadata": {},
   "outputs": [
    {
     "name": "stdout",
     "output_type": "stream",
     "text": [
      "Which number do you want to check? 45\n",
      "This is an odd number.\n"
     ]
    }
   ],
   "source": [
    "# Write a program that works out whether if a given number is an odd or even number.\n",
    "# Even numbers can be divided by 2 with no remainder.\n",
    "\n",
    "number = int(input(\"Which number do you want to check? \"))\n",
    "\n",
    "remainder = number % 2  \n",
    "# a % b\n",
    "# modulo operator returns remainder after dividing a by b\n",
    "\n",
    "if remainder == 0:\n",
    "    print(\"This is an even number.\")\n",
    "else:\n",
    "    print(\"This is an odd number.\")"
   ]
  },
  {
   "cell_type": "code",
   "execution_count": 9,
   "metadata": {},
   "outputs": [
    {
     "name": "stdout",
     "output_type": "stream",
     "text": [
      "Welcome to the rollecoster!\n",
      "What is your height in cm? 120\n",
      "You can ride the rollercoster!\n",
      "What is your age ?13\n",
      "Please pay $7.\n"
     ]
    }
   ],
   "source": [
    "# Nested if statements and elif statements\n",
    "print(\"Welcome to the rollecoster!\")\n",
    "height = int(input(\"What is your height in cm? \"))\n",
    "\n",
    "if height >= 120:\n",
    "    print(\"You can ride the rollercoster!\")\n",
    "    age = int(input(\"What is your age ?\"))\n",
    "    if age < 12:   # nested if\n",
    "        print(\"Please pay $5.\")\n",
    "    elif age <= 18:  # we can add as many elif statements as we want\n",
    "        print(\"Please pay $7.\")\n",
    "    elif age <= 25:\n",
    "        print(\"Please pay $15.\")\n",
    "    else:\n",
    "        print(\"Please pay $12.\")\n",
    "else:\n",
    "    print(\"Sorry, you have to grow taller before you can ride.\")"
   ]
  },
  {
   "cell_type": "code",
   "execution_count": 10,
   "metadata": {},
   "outputs": [
    {
     "name": "stdout",
     "output_type": "stream",
     "text": [
      "enter your height in m: 1.75\n",
      "enter your weight in kg: 85\n",
      "Your BMI is 28, you are slightly overweight.\n"
     ]
    }
   ],
   "source": [
    "# Write a program that interprets the Body Mass Index (BMI) based on a user's weight and height.\n",
    "\n",
    "# It should tell them the interpretation of their BMI based on the BMI value.\n",
    "\n",
    "# Under 18.5 they are underweight\n",
    "# Over 18.5 but below 25 they have a normal weight\n",
    "# Over 25 but below 30 they are slightly overweight\n",
    "# Over 30 but below 35 they are obese\n",
    "# Above 35 they are clinically obese.\n",
    "\n",
    "# Warning you should round the result to the nearest whole number.\n",
    "\n",
    "height = float(input(\"enter your height in m: \"))\n",
    "weight = float(input(\"enter your weight in kg: \"))\n",
    "\n",
    "bmi = weight / (height ** 2)\n",
    "bmi = round(bmi)\n",
    "\n",
    "if bmi < 18.5:\n",
    "    print(f\"Your BMI is {bmi}, you are underweight.\")\n",
    "elif bmi < 25:\n",
    "    print(f\"Your BMI is {bmi}, you have a normal weight.\")\n",
    "elif bmi < 30:\n",
    "    print(f\"Your BMI is {bmi}, you are slightly overweight.\")\n",
    "elif bmi < 35:\n",
    "    print(f\"Your BMI is {bmi}, you are obese.\")\n",
    "else:\n",
    "    print(f\"Your BMI is {bmi}, you are clinically obese.\")"
   ]
  },
  {
   "cell_type": "code",
   "execution_count": 11,
   "metadata": {},
   "outputs": [
    {
     "name": "stdout",
     "output_type": "stream",
     "text": [
      "Which year do you want to check? 2400\n",
      "Leap year.\n"
     ]
    }
   ],
   "source": [
    "# Write a program that works out whether if a given year is a leap year. \n",
    "# A normal year has 365 days, leap years have 366, with an extra day in February. \n",
    "# The reason why we have leap years is really fascinating, this video does it more justice:\n",
    "\n",
    "# This is how you work out whether if a particular year is a leap year.\n",
    "\n",
    "# on every year that is evenly divisible by 4 \n",
    "\n",
    "# **except** every year that is evenly divisible by 100 \n",
    "\n",
    "# **unless** the year is also evenly divisible by 400\n",
    "\n",
    "year = int(input(\"Which year do you want to check? \"))\n",
    "\n",
    "if year % 4 == 0:\n",
    "    if year % 100 == 0:\n",
    "        if year % 400 == 0:\n",
    "            print(\"Leap year.\")\n",
    "        else:\n",
    "            print(\"Not leap year.\")\n",
    "    else:\n",
    "        print(\"Leap year.\")\n",
    "else:\n",
    "    print(\"Not leap year.\")"
   ]
  },
  {
   "cell_type": "code",
   "execution_count": 15,
   "metadata": {},
   "outputs": [
    {
     "name": "stdout",
     "output_type": "stream",
     "text": [
      "Welcome to the rollecoster!\n",
      "What is your height in cm? 180\n",
      "You can ride the rollercoster!\n",
      "What is your age ?21\n",
      "Adult tickets are $12.\n",
      "Do you want a photo taken? Y or N. Y\n",
      "Your final bill is $15\n"
     ]
    }
   ],
   "source": [
    "# Multiple if statements in Succession\n",
    "\n",
    "print(\"Welcome to the rollecoster!\")\n",
    "height = int(input(\"What is your height in cm? \"))\n",
    "bill = 0\n",
    "\n",
    "if height >= 120:\n",
    "    print(\"You can ride the rollercoster!\")\n",
    "    age = int(input(\"What is your age ?\"))\n",
    "    if age < 12:\n",
    "        bill = 5\n",
    "        print(\"Child tickets are $5.\")\n",
    "    elif age <= 18:\n",
    "        bill = 7\n",
    "        print(\"Youth tickets are $7.\")\n",
    "    else:\n",
    "        bill = 12\n",
    "        print(\"Adult tickets are $12.\")\n",
    "        \n",
    "    wants_photo = input(\"Do you want a photo taken? Y or N. \")\n",
    "    if wants_photo == \"Y\":    # at same indentation level as of above if elif statements\n",
    "        bill += 3\n",
    "        \n",
    "    print(f\"Your final bill is ${bill}\")\n",
    "    \n",
    "else:\n",
    "    print(\"Sorry, you have to grow taller before you can ride.\")"
   ]
  },
  {
   "cell_type": "code",
   "execution_count": null,
   "metadata": {},
   "outputs": [],
   "source": []
  }
 ],
 "metadata": {
  "kernelspec": {
   "display_name": "Python 3",
   "language": "python",
   "name": "python3"
  },
  "language_info": {
   "codemirror_mode": {
    "name": "ipython",
    "version": 3
   },
   "file_extension": ".py",
   "mimetype": "text/x-python",
   "name": "python",
   "nbconvert_exporter": "python",
   "pygments_lexer": "ipython3",
   "version": "3.6.6"
  }
 },
 "nbformat": 4,
 "nbformat_minor": 2
}
