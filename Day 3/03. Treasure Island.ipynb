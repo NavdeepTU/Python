{
 "cells": [
  {
   "cell_type": "code",
   "execution_count": 3,
   "metadata": {},
   "outputs": [
    {
     "name": "stdout",
     "output_type": "stream",
     "text": [
      "Welcome to Treasure Island.\n",
      "Your mission is to find the treasure.\n",
      "You're at a cross road. Where do you want to go? Type 'left' or 'right'left\n",
      "You come to a lake. There is an island in the middle of the lake.                         Type 'wait' to wait for a boat. Type 'swim' to swim across.Wait\n",
      "You arrive at the island unharmed. There is a house with 3 doors.                             One red, one yellow and one blue. Which colour do you choose?Yellow\n",
      "You Win!\n"
     ]
    }
   ],
   "source": [
    "print(\"Welcome to Treasure Island.\")\n",
    "print(\"Your mission is to find the treasure.\")\n",
    "direction = input('You\\'re at a cross road. Where do you want to go? Type \"left\" or \"right\"').lower()\n",
    "if direction == \"left\":\n",
    "    cross_lake = input('''You come to a lake. There is an island in the middle of the lake. \\\n",
    "                        Type 'wait' to wait for a boat. Type 'swim' to swim across.''').lower()\n",
    "    if cross_lake == \"wait\":\n",
    "        door_color = input('''You arrive at the island unharmed. There is a house with 3 doors. \\\n",
    "                            One red, one yellow and one blue. Which colour do you choose?''').lower()\n",
    "        if door_color == \"red\":\n",
    "            print(\"You were burned by fire. Game Over.\")\n",
    "        elif door_color == 'blue':\n",
    "            print(\"You were eaten by beasts. Game Over.\")\n",
    "        elif door_color == \"yellow\":\n",
    "            print(\"You Win!\")\n",
    "        else:\n",
    "            print(\"Game Over.\")\n",
    "    else:\n",
    "        print(\"You were attacked by trout. Game Over.\")\n",
    "else:\n",
    "    print(\"You fell into a hole game over.\")"
   ]
  },
  {
   "cell_type": "code",
   "execution_count": null,
   "metadata": {},
   "outputs": [],
   "source": []
  }
 ],
 "metadata": {
  "kernelspec": {
   "display_name": "Python 3",
   "language": "python",
   "name": "python3"
  },
  "language_info": {
   "codemirror_mode": {
    "name": "ipython",
    "version": 3
   },
   "file_extension": ".py",
   "mimetype": "text/x-python",
   "name": "python",
   "nbconvert_exporter": "python",
   "pygments_lexer": "ipython3",
   "version": "3.6.6"
  }
 },
 "nbformat": 4,
 "nbformat_minor": 2
}
