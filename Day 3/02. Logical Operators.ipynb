{
 "cells": [
  {
   "cell_type": "code",
   "execution_count": 1,
   "metadata": {},
   "outputs": [],
   "source": [
    "# and -> evaluate to true if all the conditions are true\n",
    "# or -> evaluate to true if any of the condition is true\n",
    "# not -> reverses a condition"
   ]
  },
  {
   "cell_type": "code",
   "execution_count": 3,
   "metadata": {},
   "outputs": [
    {
     "name": "stdout",
     "output_type": "stream",
     "text": [
      "Welcome to the rollecoster!\n",
      "What is your height in cm? 180\n",
      "You can ride the rollercoster!\n",
      "What is your age ?47\n",
      "Everything is going to be ok. Have a free ride on us!\n",
      "Do you want a photo taken? Y or N. N\n",
      "Your final bill is $0\n"
     ]
    }
   ],
   "source": [
    "print(\"Welcome to the rollecoster!\")\n",
    "height = int(input(\"What is your height in cm? \"))\n",
    "bill = 0\n",
    "\n",
    "if height >= 120:\n",
    "    print(\"You can ride the rollercoster!\")\n",
    "    age = int(input(\"What is your age ?\"))\n",
    "    if age < 12:\n",
    "        bill = 5\n",
    "        print(\"Child tickets are $5.\")\n",
    "    elif age <= 18:\n",
    "        bill = 7\n",
    "        print(\"Youth tickets are $7.\")\n",
    "    elif age >= 45 and age <= 55:   # checking for mid age crisis\n",
    "        print(\"Everything is going to be ok. Have a free ride on us!\")\n",
    "    else:\n",
    "        bill = 12\n",
    "        print(\"Adult tickets are $12.\")\n",
    "        \n",
    "    wants_photo = input(\"Do you want a photo taken? Y or N. \")\n",
    "    if wants_photo == \"Y\":    # at same indentation level as of above if elif statements\n",
    "        bill += 3\n",
    "        \n",
    "    print(f\"Your final bill is ${bill}\")\n",
    "    \n",
    "else:\n",
    "    print(\"Sorry, you have to grow taller before you can ride.\")"
   ]
  },
  {
   "cell_type": "code",
   "execution_count": 4,
   "metadata": {},
   "outputs": [
    {
     "name": "stdout",
     "output_type": "stream",
     "text": [
      "Welcome to the Love Calculator!\n",
      "What is your name? \n",
      "Angela Yu\n",
      "What is their name? \n",
      "Jack Bauer\n",
      "Your score is 53\n"
     ]
    }
   ],
   "source": [
    "# You are going to write a program that tests the compatibility between two people.\n",
    "\n",
    "# To work out the love score between two people:\n",
    "\n",
    "# Take both people's names and check for the number of times the letters in the word TRUE occurs. \n",
    "\n",
    "# Then check for the number of times the letters in the word LOVE occurs. \n",
    "\n",
    "# Then combine these numbers to make a 2 digit number.\n",
    "\n",
    "# For Love Scores less than 10 or greater than 90, the message should be:\n",
    "\n",
    "# \"Your score is **x**, you go together like coke and mentos.\"\n",
    "# For Love Scores between 40 and 50, the message should be:\n",
    "\n",
    "# \"Your score is **y**, you are alright together.\"\n",
    "# Otherwise, the message will just be their score. e.g.:\n",
    "\n",
    "# \"Your score is **z**.\"\n",
    "\n",
    "print(\"Welcome to the Love Calculator!\")\n",
    "name1 = input(\"What is your name? \\n\")\n",
    "name2 = input(\"What is their name? \\n\")\n",
    "\n",
    "combined_names = name1 + name2\n",
    "combined_names = combined_names.lower()\n",
    "\n",
    "digit_one = 0\n",
    "digit_two = 0\n",
    "\n",
    "digit_one += combined_names.count(\"t\")\n",
    "digit_one += combined_names.count(\"r\")\n",
    "digit_one += combined_names.count(\"u\")\n",
    "digit_one += combined_names.count(\"e\")\n",
    "\n",
    "digit_two += combined_names.count(\"l\")\n",
    "digit_two += combined_names.count(\"o\")\n",
    "digit_two += combined_names.count(\"v\")\n",
    "digit_two += combined_names.count(\"e\")\n",
    "\n",
    "score = int(str(digit_one) + str(digit_two))\n",
    "\n",
    "if score < 10 or score > 90:\n",
    "    print(f\"Your score is {score}, you go together like coke and mentos.\")\n",
    "elif score >= 40 and score <= 50:\n",
    "    print(f\"Your score is {score}, you are alright together.\")\n",
    "else:\n",
    "    print(f\"Your score is {score}\")"
   ]
  },
  {
   "cell_type": "code",
   "execution_count": null,
   "metadata": {},
   "outputs": [],
   "source": []
  }
 ],
 "metadata": {
  "kernelspec": {
   "display_name": "Python 3",
   "language": "python",
   "name": "python3"
  },
  "language_info": {
   "codemirror_mode": {
    "name": "ipython",
    "version": 3
   },
   "file_extension": ".py",
   "mimetype": "text/x-python",
   "name": "python",
   "nbconvert_exporter": "python",
   "pygments_lexer": "ipython3",
   "version": "3.6.6"
  }
 },
 "nbformat": 4,
 "nbformat_minor": 2
}
