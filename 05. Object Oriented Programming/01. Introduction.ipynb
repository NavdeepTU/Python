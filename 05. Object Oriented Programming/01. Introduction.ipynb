{
 "cells": [
  {
   "cell_type": "code",
   "execution_count": 2,
   "metadata": {},
   "outputs": [],
   "source": [
    "# Object Oriented Programming (OOP) allows programmers to create their own objects\n",
    "# that have methods and attributes"
   ]
  },
  {
   "cell_type": "code",
   "execution_count": 3,
   "metadata": {},
   "outputs": [],
   "source": [
    "# Recall that after defining a string, list, dictionary, or other objects, \n",
    "# you were able to call methods off of them with th .method_nmae() syntax.\n",
    "# eg - lst.append(val), lst.pop()\n",
    "\n",
    "# These methods act as functions that use information about the object, as well as\n",
    "# the object itself to return results, or change the current object(lst.sort()).\n",
    "\n",
    "# For example this includes appending to a list, or counting the occurences\n",
    "# of an element in a tuple"
   ]
  },
  {
   "cell_type": "code",
   "execution_count": 4,
   "metadata": {},
   "outputs": [],
   "source": [
    "# OOP allows users to create their own objects.\n",
    "\n",
    "# The general format is often confusing when first encountered, and its usefulness \n",
    "# may not be completely clear at first.\n",
    "\n",
    "# In general, OOP allows us to create code that is repeatable and organized."
   ]
  },
  {
   "cell_type": "code",
   "execution_count": 5,
   "metadata": {},
   "outputs": [],
   "source": [
    "# For much larger scripts of Python code, functions by themselves aren't enough for\n",
    "# organization and repeatability.\n",
    "\n",
    "# Commonly repeated tasks and objects can be defined with OOP to create code \n",
    "# that is more usable."
   ]
  }
 ],
 "metadata": {
  "kernelspec": {
   "display_name": "Python 3",
   "language": "python",
   "name": "python3"
  },
  "language_info": {
   "codemirror_mode": {
    "name": "ipython",
    "version": 3
   },
   "file_extension": ".py",
   "mimetype": "text/x-python",
   "name": "python",
   "nbconvert_exporter": "python",
   "pygments_lexer": "ipython3",
   "version": "3.6.6"
  }
 },
 "nbformat": 4,
 "nbformat_minor": 2
}
