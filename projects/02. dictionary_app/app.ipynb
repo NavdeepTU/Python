{
 "cells": [
  {
   "cell_type": "code",
   "execution_count": 1,
   "metadata": {},
   "outputs": [],
   "source": [
    "# define dictionary to store the definitions\n",
    "dictionary = {\n",
    "    \"apple\": \"A fruit that grows on trees and is typically red, green, or yellow.\",\n",
    "    \"banana\": 'A long, curved fruit with a yellow skin and soft, sweet flesh.',\n",
    "    \"cat\": 'A small domesticated carnivorous mammal, typically kept as a pet.',\n",
    "    \"dog\": 'A domesticated carnivorous mammal that typically has a long snout, an acute sense of smell, and a barking, howling, or whining voice.',\n",
    "    \"elephant\": 'A very large plant-eating mammal with a prehensile trunk, long curved ivory tusks, and large ears, native to Africa and southern Asia.'\n",
    "}"
   ]
  },
  {
   "cell_type": "code",
   "execution_count": 2,
   "metadata": {},
   "outputs": [],
   "source": [
    "# function to display the main menu\n",
    "def display_menu():\n",
    "    print(\"\\n Welcome to the Dictionary App\")\n",
    "    print(\"1. Look up a word\")\n",
    "    print(\"2. Exit\")\n",
    "    choice = input(\"Please select an option (1-2): \")\n",
    "    return choice"
   ]
  },
  {
   "cell_type": "code",
   "execution_count": 3,
   "metadata": {},
   "outputs": [],
   "source": [
    "# function to look up a word\n",
    "def look_up_word():\n",
    "    word = input(\"Enter the word you want to look up: \").lower()\n",
    "    if word in dictionary:\n",
    "        print(f\"Definition of '{word}': {dictionary[word]}\")\n",
    "    else:\n",
    "        print(f\"Word '{word}' not found in the dictionary.\")"
   ]
  },
  {
   "cell_type": "code",
   "execution_count": 4,
   "metadata": {},
   "outputs": [],
   "source": [
    "# main function to run the dictionary app\n",
    "def run_dictionary_app():\n",
    "    while True:\n",
    "        choice = display_menu()\n",
    "        if choice == '1':\n",
    "            look_up_word()\n",
    "        elif choice == '2':\n",
    "            print(\"Thank you for using the Simple Dictionary App. Goodbye!\")\n",
    "            break\n",
    "        else:\n",
    "            print(\"Invalid choice. Please select a valid option (1-2).\")"
   ]
  },
  {
   "cell_type": "code",
   "execution_count": 5,
   "metadata": {},
   "outputs": [
    {
     "name": "stdout",
     "output_type": "stream",
     "text": [
      "\n",
      " Welcome to the Dictionary App\n",
      "1. Look up a word\n",
      "2. Exit\n",
      "Definition of 'apple': A fruit that grows on trees and is typically red, green, or yellow.\n",
      "\n",
      " Welcome to the Dictionary App\n",
      "1. Look up a word\n",
      "2. Exit\n",
      "Invalid choice. Please select a valid option (1-2).\n",
      "\n",
      " Welcome to the Dictionary App\n",
      "1. Look up a word\n",
      "2. Exit\n",
      "Definition of 'banana': A long, curved fruit with a yellow skin and soft, sweet flesh.\n",
      "\n",
      " Welcome to the Dictionary App\n",
      "1. Look up a word\n",
      "2. Exit\n",
      "Word 'mouse' not found in the dictionary.\n",
      "\n",
      " Welcome to the Dictionary App\n",
      "1. Look up a word\n",
      "2. Exit\n",
      "Word 'mouse' not found in the dictionary.\n",
      "\n",
      " Welcome to the Dictionary App\n",
      "1. Look up a word\n",
      "2. Exit\n",
      "Thank you for using the Simple Dictionary App. Goodbye!\n"
     ]
    }
   ],
   "source": [
    "# run the dictionary app\n",
    "run_dictionary_app()"
   ]
  },
  {
   "cell_type": "code",
   "execution_count": null,
   "metadata": {},
   "outputs": [],
   "source": []
  }
 ],
 "metadata": {
  "kernelspec": {
   "display_name": "Python 3",
   "language": "python",
   "name": "python3"
  },
  "language_info": {
   "codemirror_mode": {
    "name": "ipython",
    "version": 3
   },
   "file_extension": ".py",
   "mimetype": "text/x-python",
   "name": "python",
   "nbconvert_exporter": "python",
   "pygments_lexer": "ipython3",
   "version": "3.9.6"
  }
 },
 "nbformat": 4,
 "nbformat_minor": 2
}
