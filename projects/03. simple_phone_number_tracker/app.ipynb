{
 "cells": [
  {
   "cell_type": "code",
   "execution_count": 1,
   "metadata": {},
   "outputs": [],
   "source": [
    "import phonenumbers\n",
    "from phonenumbers import geocoder, carrier"
   ]
  },
  {
   "cell_type": "code",
   "execution_count": 3,
   "metadata": {},
   "outputs": [],
   "source": [
    "# function to display the main menu\n",
    "def display_menu():\n",
    "    print(\"\\n Welcome to the Phone Number Tracker\")\n",
    "    print(\"1. Track a phone number\")\n",
    "    print(\"2. Exit\")\n",
    "    choice = input(\"Please select an option (1-2): \")\n",
    "    return choice"
   ]
  },
  {
   "cell_type": "code",
   "execution_count": 4,
   "metadata": {},
   "outputs": [],
   "source": [
    "# function to track a phone number\n",
    "def track_phone_number():\n",
    "    phone_number = input(\"Enter the phone number with the country code: \")\n",
    "    try:\n",
    "        # parse the phone number\n",
    "        parsed_number = phonenumbers.parse(phone_number, None)\n",
    "\n",
    "        # validate the phone number\n",
    "        if phonenumbers.is_valid_number(parsed_number):\n",
    "            # get the country and carrier information\n",
    "            country = geocoder.description_for_number(parsed_number, 'en')\n",
    "            carrier_name = carrier.name_for_number(parsed_number, 'en')\n",
    "\n",
    "            # display the information\n",
    "            print(f\"Phone Number: {phone_number}\")\n",
    "            print(f\"Country: {country}\")\n",
    "            print(f\"Carrier: {carrier_name}\")\n",
    "        else:\n",
    "            print(\"Invalid phone number. Please enter a valid phone number.\")\n",
    "    except Exception as e:\n",
    "        print(\"An error occurred. Please enter a valid phone number.\")\n"
   ]
  },
  {
   "cell_type": "code",
   "execution_count": 5,
   "metadata": {},
   "outputs": [],
   "source": [
    "# main function to run the phone number tracker\n",
    "def run_phone_number_tracker():\n",
    "    while True:\n",
    "        choice = display_menu()\n",
    "        if choice == '1':\n",
    "            track_phone_number()\n",
    "        elif choice == '2':\n",
    "            print(\"Thank you for using the Phone Number Tracker. Goodbye!\")\n",
    "            break\n",
    "        else:\n",
    "            print(\"Invalid choice. Please select a valid option (1-2).\")"
   ]
  },
  {
   "cell_type": "code",
   "execution_count": 7,
   "metadata": {},
   "outputs": [
    {
     "name": "stdout",
     "output_type": "stream",
     "text": [
      "\n",
      " Welcome to the Phone Number Tracker\n",
      "1. Track a phone number\n",
      "2. Exit\n",
      "Thank you for using the Phone Number Tracker. Goodbye!\n"
     ]
    }
   ],
   "source": [
    "# run the phone number tracker\n",
    "run_phone_number_tracker()"
   ]
  },
  {
   "cell_type": "code",
   "execution_count": null,
   "metadata": {},
   "outputs": [],
   "source": []
  }
 ],
 "metadata": {
  "kernelspec": {
   "display_name": "venv",
   "language": "python",
   "name": "python3"
  },
  "language_info": {
   "codemirror_mode": {
    "name": "ipython",
    "version": 3
   },
   "file_extension": ".py",
   "mimetype": "text/x-python",
   "name": "python",
   "nbconvert_exporter": "python",
   "pygments_lexer": "ipython3",
   "version": "3.12.0"
  }
 },
 "nbformat": 4,
 "nbformat_minor": 2
}
