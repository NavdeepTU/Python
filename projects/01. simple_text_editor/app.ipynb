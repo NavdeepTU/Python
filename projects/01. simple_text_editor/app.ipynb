{
 "cells": [
  {
   "cell_type": "code",
   "execution_count": 1,
   "metadata": {},
   "outputs": [],
   "source": [
    "# function to display the main menu\n",
    "def display_menu():\n",
    "    print(\"Welcome to the Simple Text Editor\")\n",
    "    print(\"1. Create a new file\")\n",
    "    print(\"2. Open an existing file\")\n",
    "    print(\"3. Save the current file\")\n",
    "    print(\"4. Exit\")\n",
    "    choice = input(\"Please select an option (1-4): \")\n",
    "    return choice"
   ]
  },
  {
   "cell_type": "code",
   "execution_count": 2,
   "metadata": {},
   "outputs": [],
   "source": [
    "files_dir = \"my_files/\""
   ]
  },
  {
   "cell_type": "code",
   "execution_count": 3,
   "metadata": {},
   "outputs": [],
   "source": [
    "# function to create a new file\n",
    "def create_new_file():\n",
    "    file_name = input(\"Enter the file name (e.g., my_file.txt): \")\n",
    "    content = input(\"Enter the content: \")\n",
    "    with open(\"my_files/\"+file_name, 'w') as file:\n",
    "        file.write(content)\n",
    "    print(f\"File '{file_name}' created successfully.\")"
   ]
  },
  {
   "cell_type": "code",
   "execution_count": 4,
   "metadata": {},
   "outputs": [],
   "source": [
    "# function to open an existing file\n",
    "def open_file():\n",
    "    file_name = input(\"Enter the file name (e.g., my_file.txt): \")\n",
    "    try:\n",
    "        with open(\"my_files/\"+file_name, \"r\") as file:\n",
    "            content = file.read()\n",
    "        print(f\"Content of '{file_name}': \")\n",
    "        print(content)\n",
    "        return file_name, content\n",
    "    except FileNotFoundError:\n",
    "        print(f\"File '{file_name}' not found.\")\n",
    "        return None, None"
   ]
  },
  {
   "cell_type": "code",
   "execution_count": 5,
   "metadata": {},
   "outputs": [],
   "source": [
    "# function to save the current file\n",
    "def save_file(file_name, content):\n",
    "    if file_name:\n",
    "        with open(\"my_files/\"+file_name, 'w') as file:\n",
    "            file.write(content)\n",
    "        print(f\"File '{file_name}' saved successfully.\")\n",
    "    else:\n",
    "        print(\"No file is currently open.\")"
   ]
  },
  {
   "cell_type": "code",
   "execution_count": 6,
   "metadata": {},
   "outputs": [],
   "source": [
    "# main function to run the text editor\n",
    "def run_text_editor():\n",
    "    current_file = None\n",
    "    current_content = None\n",
    "\n",
    "    while True:\n",
    "        choice = display_menu()\n",
    "        if choice == '1':\n",
    "            create_new_file()\n",
    "        elif choice == '2':\n",
    "            current_file, current_content = open_file()\n",
    "        elif choice == '3':\n",
    "            if current_file and current_content:\n",
    "                save_file(current_file, current_content)\n",
    "            else:\n",
    "                print(\"No file is currently open to save.\")\n",
    "        elif choice == '4':\n",
    "            print(\"Thank you for using the SImple Text Editor. Goodbye!\")\n",
    "            break\n",
    "        else:\n",
    "            print(\"Invalid choice. Please select a valid option (1-4).\")"
   ]
  },
  {
   "cell_type": "code",
   "execution_count": 8,
   "metadata": {},
   "outputs": [
    {
     "name": "stdout",
     "output_type": "stream",
     "text": [
      "Welcome to the Simple Text Editor\n",
      "1. Create a new file\n",
      "2. Open an existing file\n",
      "3. Save the current file\n",
      "4. Exit\n",
      "File 'llm_intro' created successfully.\n",
      "Welcome to the Simple Text Editor\n",
      "1. Create a new file\n",
      "2. Open an existing file\n",
      "3. Save the current file\n",
      "4. Exit\n",
      "Content of 'llm_intro': \n",
      "This is a sample file. LLms stand for large language models. Play around with this file to get deeper depth into it.\n",
      "Welcome to the Simple Text Editor\n",
      "1. Create a new file\n",
      "2. Open an existing file\n",
      "3. Save the current file\n",
      "4. Exit\n",
      "File 'llm_intro' saved successfully.\n",
      "Welcome to the Simple Text Editor\n",
      "1. Create a new file\n",
      "2. Open an existing file\n",
      "3. Save the current file\n",
      "4. Exit\n",
      "Thank you for using the SImple Text Editor. Goodbye!\n"
     ]
    }
   ],
   "source": [
    "run_text_editor()"
   ]
  },
  {
   "cell_type": "code",
   "execution_count": null,
   "metadata": {},
   "outputs": [],
   "source": []
  }
 ],
 "metadata": {
  "kernelspec": {
   "display_name": "Python 3",
   "language": "python",
   "name": "python3"
  },
  "language_info": {
   "codemirror_mode": {
    "name": "ipython",
    "version": 3
   },
   "file_extension": ".py",
   "mimetype": "text/x-python",
   "name": "python",
   "nbconvert_exporter": "python",
   "pygments_lexer": "ipython3",
   "version": "3.9.6"
  }
 },
 "nbformat": 4,
 "nbformat_minor": 2
}
