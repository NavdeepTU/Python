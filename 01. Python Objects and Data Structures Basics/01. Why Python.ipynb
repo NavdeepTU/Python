{
 "cells": [
  {
   "cell_type": "code",
   "execution_count": 1,
   "metadata": {},
   "outputs": [],
   "source": [
    "# Python was created in 1990\n",
    "# Specifically designed as an easy to use language\n",
    "# Designed for clear, logical code that is easy to read and learn\n",
    "# Lots of existing libraries and frameworks are already written in Python allowing users to apply python to a wide variety of tasks\n",
    "# Focuses on optimizing developer time, rather than a computer's processing time\n",
    "# docs.python.org/3 - Great official documentation\n",
    "# Even the base version of python actually comes in with lots of additional modules. Eg - random module\n",
    "# outside libraries and frameworks that greatly expand Python's capabilities"
   ]
  },
  {
   "cell_type": "code",
   "execution_count": 3,
   "metadata": {},
   "outputs": [],
   "source": [
    "# What can you do with python ?\n",
    "# 1. Automate simple tasks:\n",
    "# Searching for files and editing them\n",
    "# Scrapping information from a website\n",
    "# Reading and editing excel files\n",
    "# Work with PDFs\n",
    "# Automate emails and text messages\n",
    "# Fill out forms\n",
    "\n",
    "# 2. Data Science and Machine Learning\n",
    "# Analyze large data files\n",
    "# Create Visualizations\n",
    "# Perform Machine Learning tasks\n",
    "# Create and run predictive algorithms\n",
    "\n",
    "# 3. Create Websites\n",
    "# Use web frameworks such as Django and Flask to handle the backend of a website and user data\n",
    "# Create interactive dashboards for users"
   ]
  },
  {
   "cell_type": "code",
   "execution_count": null,
   "metadata": {},
   "outputs": [],
   "source": []
  }
 ],
 "metadata": {
  "kernelspec": {
   "display_name": "Python 3",
   "language": "python",
   "name": "python3"
  },
  "language_info": {
   "codemirror_mode": {
    "name": "ipython",
    "version": 3
   },
   "file_extension": ".py",
   "mimetype": "text/x-python",
   "name": "python",
   "nbconvert_exporter": "python",
   "pygments_lexer": "ipython3",
   "version": "3.6.6"
  }
 },
 "nbformat": 4,
 "nbformat_minor": 2
}
