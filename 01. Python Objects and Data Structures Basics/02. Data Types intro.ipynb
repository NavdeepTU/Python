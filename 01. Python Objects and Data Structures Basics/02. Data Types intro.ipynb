{
 "cells": [
  {
   "cell_type": "code",
   "execution_count": null,
   "metadata": {},
   "outputs": [],
   "source": [
    "# Data types\n",
    "# int -> 3, 300, 200\n",
    "# float -> 2.3, 4.6\n",
    "# str -> \"hello\", \"2000\"\n",
    "\n",
    "# Data Structures\n",
    "# list [] Ordered\n",
    "# dict {} Unordered\n",
    "# tup () Ordered\n",
    "# set {} Unordered\n",
    "# bool True, False"
   ]
  }
 ],
 "metadata": {
  "kernelspec": {
   "display_name": "Python 3",
   "language": "python",
   "name": "python3"
  },
  "language_info": {
   "codemirror_mode": {
    "name": "ipython",
    "version": 3
   },
   "file_extension": ".py",
   "mimetype": "text/x-python",
   "name": "python",
   "nbconvert_exporter": "python",
   "pygments_lexer": "ipython3",
   "version": "3.6.6"
  }
 },
 "nbformat": 4,
 "nbformat_minor": 2
}
