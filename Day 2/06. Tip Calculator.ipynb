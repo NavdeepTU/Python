{
 "cells": [
  {
   "cell_type": "code",
   "execution_count": 1,
   "metadata": {},
   "outputs": [
    {
     "name": "stdout",
     "output_type": "stream",
     "text": [
      "Welcome to the tip calculator.\n",
      "What was the total bill? $150\n",
      "What percentage tip would you like to give? 10, 12, or 15?12\n",
      "How many people to split the bill?5\n",
      "Each person should pay: $33.60\n"
     ]
    }
   ],
   "source": [
    "#If the bill was $150.00, split between 5 people, with 12% tip. \n",
    "\n",
    "#Each person should pay (150.00 / 5) * 1.12 = 33.6\n",
    "#Format the result to 2 decimal places = 33.60\n",
    "\n",
    "#Tip: There are 2 ways to round a number. You might have to do some Googling to solve this.💪\n",
    "\n",
    "print(\"Welcome to the tip calculator.\")\n",
    "bill_amount = float(input(\"What was the total bill? $\"))\n",
    "tip = int(input(\"What percentage tip would you like to give? 10, 12, or 15?\"))\n",
    "split_count = int(input(\"How many people to split the bill?\"))\n",
    "\n",
    "bill_amount = bill_amount + bill_amount * (tip / 100)\n",
    "each_person_bill = bill_amount / split_count\n",
    "# each_person_bill = round(each_person_bill, 2)  this will return 33.6\n",
    "\n",
    "# Used stackoverflow to find below way of rounding of\n",
    "each_person_bill = \"{:.2f}\".format(each_person_bill) # this will return 33.60\n",
    "\n",
    "print(f\"Each person should pay: ${each_person_bill}\")\n"
   ]
  },
  {
   "cell_type": "code",
   "execution_count": null,
   "metadata": {},
   "outputs": [],
   "source": []
  }
 ],
 "metadata": {
  "kernelspec": {
   "display_name": "Python 3",
   "language": "python",
   "name": "python3"
  },
  "language_info": {
   "codemirror_mode": {
    "name": "ipython",
    "version": 3
   },
   "file_extension": ".py",
   "mimetype": "text/x-python",
   "name": "python",
   "nbconvert_exporter": "python",
   "pygments_lexer": "ipython3",
   "version": "3.6.6"
  }
 },
 "nbformat": 4,
 "nbformat_minor": 2
}
