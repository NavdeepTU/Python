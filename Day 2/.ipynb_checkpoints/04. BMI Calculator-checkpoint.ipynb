{
 "cells": [
  {
   "cell_type": "code",
   "execution_count": 1,
   "metadata": {},
   "outputs": [
    {
     "data": {
      "text/plain": [
       "\"\\nWrite a program that calculates the Body Mass Index (BMI) from a user's weight and height.\\n\\nThe BMI is a measure of someone's weight taking into account their height. e.g. \\nIf a tall person and a short person both weigh the same amount, \\nthe short person is usually more overweight.\\n\\nThe BMI is calculated by dividing a person's weight (in kg) by the square of their height (in m):\\nBMI = weight / (height) ** 2\\nWarning you should convert the result to a whole number.\\n\""
      ]
     },
     "execution_count": 1,
     "metadata": {},
     "output_type": "execute_result"
    }
   ],
   "source": [
    "\"\"\"\n",
    "Write a program that calculates the Body Mass Index (BMI) from a user's weight and height.\n",
    "\n",
    "The BMI is a measure of someone's weight taking into account their height. e.g. \n",
    "If a tall person and a short person both weigh the same amount, \n",
    "the short person is usually more overweight.\n",
    "\n",
    "The BMI is calculated by dividing a person's weight (in kg) by the square of their height (in m):\n",
    "BMI = weight / (height) ** 2\n",
    "Warning you should convert the result to a whole number.\n",
    "\"\"\""
   ]
  },
  {
   "cell_type": "code",
   "execution_count": 2,
   "metadata": {},
   "outputs": [
    {
     "name": "stdout",
     "output_type": "stream",
     "text": [
      "enter your height in m: 1.75\n",
      "enter your weight in kg: 80\n",
      "26\n"
     ]
    }
   ],
   "source": [
    "height = input(\"enter your height in m: \")\n",
    "weight = input(\"enter your weight in kg: \")\n",
    "\n",
    "# Converting string to float\n",
    "height = float(height)\n",
    "weight = float(weight)\n",
    "\n",
    "bmi = weight / height ** 2\n",
    "\n",
    "bmi = int(bmi) # converting to a whole number\n",
    "\n",
    "print(bmi)"
   ]
  },
  {
   "cell_type": "code",
   "execution_count": null,
   "metadata": {},
   "outputs": [],
   "source": []
  }
 ],
 "metadata": {
  "kernelspec": {
   "display_name": "Python 3",
   "language": "python",
   "name": "python3"
  },
  "language_info": {
   "codemirror_mode": {
    "name": "ipython",
    "version": 3
   },
   "file_extension": ".py",
   "mimetype": "text/x-python",
   "name": "python",
   "nbconvert_exporter": "python",
   "pygments_lexer": "ipython3",
   "version": "3.6.6"
  }
 },
 "nbformat": 4,
 "nbformat_minor": 2
}
