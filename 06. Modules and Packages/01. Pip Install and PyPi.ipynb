{
 "cells": [
  {
   "cell_type": "code",
   "execution_count": 1,
   "metadata": {},
   "outputs": [],
   "source": [
    "# PyPI is a repository for open-source third-party Python packages.\n",
    "\n",
    "# It's similar to RubyGems in the Ruby world, PHP's Packagist, CPAN for Perl,\n",
    "# and NPM for Node.js."
   ]
  },
  {
   "cell_type": "code",
   "execution_count": 2,
   "metadata": {},
   "outputs": [],
   "source": [
    "# So far we've really only used libraries that come internally with Python.\n",
    "# like random and math library\n",
    "\n",
    "# There are many other libraries available that people have open-sourced\n",
    "# and shared on PyPi.\n",
    "\n",
    "# We can use pip install at the command line to install these packages."
   ]
  },
  {
   "cell_type": "code",
   "execution_count": 3,
   "metadata": {},
   "outputs": [],
   "source": [
    "# By installing Python from python.org or through the Anaconda distribution\n",
    "# you also installed pip.\n",
    "\n",
    "# pip is a simple way to download packages at your command line directly\n",
    "# from the PyPi repository."
   ]
  },
  {
   "cell_type": "code",
   "execution_count": 4,
   "metadata": {},
   "outputs": [],
   "source": [
    "# There are packages already created for almost any use case you can think of !\n",
    "\n",
    "# A quick google search will usually help you discover a link to the PyPi page\n",
    "# for the package, or for the package documentation."
   ]
  },
  {
   "cell_type": "code",
   "execution_count": null,
   "metadata": {},
   "outputs": [],
   "source": [
    "C:\\Users\\HP>pip install colorama\n",
    "Requirement already satisfied: colorama in c:\\users\\hp\\appdata\\local\\programs\\python\\python36\\lib\\site-packages (0.4.1)\n",
    "WARNING: You are using pip version 19.2.3, however version 21.3.1 is available.\n",
    "You should consider upgrading via the 'python -m pip install --upgrade pip' command.\n",
    "\n",
    "C:\\Users\\HP>python\n",
    "Python 3.6.6 (v3.6.6:4cf1f54eb7, Jun 27 2018, 03:37:03) [MSC v.1900 64 bit (AMD64)] on win32\n",
    "Type \"help\", \"copyright\", \"credits\" or \"license\" for more information.\n",
    ">>> from colorama import init\n",
    ">>> init()\n",
    ">>> from colorama import Fore\n",
    ">>> print(Fore.RED + \"some red text\")\n",
    "some red text\n",
    ">>> print(Fore.GREEN + \"Switch to green\")\n",
    "Switch to green\n",
    ">>> quit()"
   ]
  },
  {
   "cell_type": "code",
   "execution_count": null,
   "metadata": {},
   "outputs": [],
   "source": [
    "# to search for a package for working with excel files on google \n",
    "# type python package for excel"
   ]
  }
 ],
 "metadata": {
  "kernelspec": {
   "display_name": "Python 3",
   "language": "python",
   "name": "python3"
  },
  "language_info": {
   "codemirror_mode": {
    "name": "ipython",
    "version": 3
   },
   "file_extension": ".py",
   "mimetype": "text/x-python",
   "name": "python",
   "nbconvert_exporter": "python",
   "pygments_lexer": "ipython3",
   "version": "3.6.6"
  }
 },
 "nbformat": 4,
 "nbformat_minor": 2
}
